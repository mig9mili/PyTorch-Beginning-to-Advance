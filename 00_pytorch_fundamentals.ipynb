{
  "nbformat": 4,
  "nbformat_minor": 0,
  "metadata": {
    "colab": {
      "provenance": []
    },
    "kernelspec": {
      "name": "python3",
      "display_name": "Python 3"
    },
    "language_info": {
      "name": "python"
    },
    "accelerator": "GPU"
  },
  "cells": [
    {
      "cell_type": "code",
      "execution_count": 1,
      "metadata": {
        "colab": {
          "base_uri": "https://localhost:8080/"
        },
        "id": "0RrHeHRns7Q4",
        "outputId": "3fdf1819-0296-41b0-f0ca-a87672009fb5"
      },
      "outputs": [
        {
          "output_type": "stream",
          "name": "stdout",
          "text": [
            "1.12.1+cu113\n"
          ]
        }
      ],
      "source": [
        "import torch\n",
        "import pandas as pd\n",
        "import numpy as np\n",
        "import matplotlib.pyplot as plt\n",
        "print(torch.__version__)"
      ]
    },
    {
      "cell_type": "code",
      "source": [
        "print(\"pytorch\")"
      ],
      "metadata": {
        "colab": {
          "base_uri": "https://localhost:8080/"
        },
        "id": "ZQA72_zttkpI",
        "outputId": "e55d61d0-8d50-4f27-b0da-5931d35e0d72"
      },
      "execution_count": null,
      "outputs": [
        {
          "output_type": "stream",
          "name": "stdout",
          "text": [
            "pytorch\n"
          ]
        }
      ]
    },
    {
      "cell_type": "code",
      "source": [
        "!nvidia-smi # to cheack gpu version"
      ],
      "metadata": {
        "colab": {
          "base_uri": "https://localhost:8080/"
        },
        "id": "0X7Vox3QtINB",
        "outputId": "530b206b-082f-4012-816e-1cfc189b870f"
      },
      "execution_count": null,
      "outputs": [
        {
          "output_type": "stream",
          "name": "stdout",
          "text": [
            "NVIDIA-SMI has failed because it couldn't communicate with the NVIDIA driver. Make sure that the latest NVIDIA driver is installed and running.\n",
            "\n"
          ]
        }
      ]
    },
    {
      "cell_type": "code",
      "source": [
        "# introduction to Tensor\n",
        "\n",
        "## creating the tensor \n",
        "\n",
        "# pytorch ternsor is created using the torch.tensor()"
      ],
      "metadata": {
        "id": "EpIrCSvRtRhA"
      },
      "execution_count": null,
      "outputs": []
    },
    {
      "cell_type": "code",
      "source": [
        "scalar=torch.tensor(7)\n",
        "scalar"
      ],
      "metadata": {
        "colab": {
          "base_uri": "https://localhost:8080/"
        },
        "id": "YFaundSnwnns",
        "outputId": "274de96c-9d33-4ca4-90ca-dbb9249f299a"
      },
      "execution_count": null,
      "outputs": [
        {
          "output_type": "execute_result",
          "data": {
            "text/plain": [
              "tensor(7)"
            ]
          },
          "metadata": {},
          "execution_count": 5
        }
      ]
    },
    {
      "cell_type": "code",
      "source": [
        "scalar.ndim # dimension (pair of the closing sq baraket )"
      ],
      "metadata": {
        "colab": {
          "base_uri": "https://localhost:8080/"
        },
        "id": "Xg6SFREMxCTu",
        "outputId": "6b7189cb-a44c-484d-8c00-26d82d61a2da"
      },
      "execution_count": null,
      "outputs": [
        {
          "output_type": "execute_result",
          "data": {
            "text/plain": [
              "0"
            ]
          },
          "metadata": {},
          "execution_count": 12
        }
      ]
    },
    {
      "cell_type": "code",
      "source": [
        "scalar.item() #get tensor back as python int"
      ],
      "metadata": {
        "colab": {
          "base_uri": "https://localhost:8080/"
        },
        "id": "O2IwBcHYyDIm",
        "outputId": "aad52d5e-eb1f-4854-8490-8a32e11c36f0"
      },
      "execution_count": null,
      "outputs": [
        {
          "output_type": "execute_result",
          "data": {
            "text/plain": [
              "7"
            ]
          },
          "metadata": {},
          "execution_count": 13
        }
      ]
    },
    {
      "cell_type": "code",
      "source": [
        "#vector\n",
        "vector=torch.tensor([7,7])\n",
        "vector"
      ],
      "metadata": {
        "colab": {
          "base_uri": "https://localhost:8080/"
        },
        "id": "T1EFb6s9yGR0",
        "outputId": "b86e329e-c359-4ca1-bc70-8ae708de30ac"
      },
      "execution_count": null,
      "outputs": [
        {
          "output_type": "execute_result",
          "data": {
            "text/plain": [
              "tensor([7, 7])"
            ]
          },
          "metadata": {},
          "execution_count": 14
        }
      ]
    },
    {
      "cell_type": "code",
      "source": [
        "vector.ndim"
      ],
      "metadata": {
        "colab": {
          "base_uri": "https://localhost:8080/"
        },
        "id": "UKN5Gew7yiD_",
        "outputId": "df75ff28-f646-43da-fd36-e6f57cfe10ce"
      },
      "execution_count": null,
      "outputs": [
        {
          "output_type": "execute_result",
          "data": {
            "text/plain": [
              "1"
            ]
          },
          "metadata": {},
          "execution_count": 15
        }
      ]
    },
    {
      "cell_type": "code",
      "source": [
        "vector.shape"
      ],
      "metadata": {
        "colab": {
          "base_uri": "https://localhost:8080/"
        },
        "id": "zz9lTMMVyt_0",
        "outputId": "296311a1-f8c5-4380-a59a-1c0e261bb7de"
      },
      "execution_count": null,
      "outputs": [
        {
          "output_type": "execute_result",
          "data": {
            "text/plain": [
              "torch.Size([2])"
            ]
          },
          "metadata": {},
          "execution_count": 16
        }
      ]
    },
    {
      "cell_type": "code",
      "source": [
        "# MATRIX\n",
        "MATRIX=torch.tensor([[2,3],\n",
        "                     [3,4]])\n",
        "MATRIX"
      ],
      "metadata": {
        "colab": {
          "base_uri": "https://localhost:8080/"
        },
        "id": "4soQtCmIzIQt",
        "outputId": "08424e85-2e2b-42b7-a6eb-712e80f9e6d9"
      },
      "execution_count": null,
      "outputs": [
        {
          "output_type": "execute_result",
          "data": {
            "text/plain": [
              "tensor([[2, 3],\n",
              "        [3, 4]])"
            ]
          },
          "metadata": {},
          "execution_count": 18
        }
      ]
    },
    {
      "cell_type": "code",
      "source": [
        "MATRIX[0]\n"
      ],
      "metadata": {
        "colab": {
          "base_uri": "https://localhost:8080/"
        },
        "id": "dJCzn19jzk0Q",
        "outputId": "538fb562-747b-45a1-f62b-b70f1e268c27"
      },
      "execution_count": null,
      "outputs": [
        {
          "output_type": "execute_result",
          "data": {
            "text/plain": [
              "tensor([2, 3])"
            ]
          },
          "metadata": {},
          "execution_count": 22
        }
      ]
    },
    {
      "cell_type": "code",
      "source": [
        "MATRIX[1]"
      ],
      "metadata": {
        "colab": {
          "base_uri": "https://localhost:8080/"
        },
        "id": "7lEQXNkNzsVC",
        "outputId": "5840df8a-e0a5-43cf-afb5-42986fc4ccee"
      },
      "execution_count": null,
      "outputs": [
        {
          "output_type": "execute_result",
          "data": {
            "text/plain": [
              "tensor([3, 4])"
            ]
          },
          "metadata": {},
          "execution_count": 21
        }
      ]
    },
    {
      "cell_type": "code",
      "source": [
        "MATRIX.shape"
      ],
      "metadata": {
        "colab": {
          "base_uri": "https://localhost:8080/"
        },
        "id": "UA3J_MxCzzm3",
        "outputId": "77a038b3-24e5-4bd1-aa4c-0ec164fa03ea"
      },
      "execution_count": null,
      "outputs": [
        {
          "output_type": "execute_result",
          "data": {
            "text/plain": [
              "torch.Size([2, 2])"
            ]
          },
          "metadata": {},
          "execution_count": 24
        }
      ]
    },
    {
      "cell_type": "code",
      "source": [
        "#TENSOR\n",
        "TENSOR=torch.tensor([[[1,2,3],\n",
        "                      [2,4,5],\n",
        "                      [5,6,7]]])\n",
        "TENSOR"
      ],
      "metadata": {
        "colab": {
          "base_uri": "https://localhost:8080/"
        },
        "id": "oL4cSJagz4oJ",
        "outputId": "90f5a959-d0a3-4f42-878f-8241fe50483f"
      },
      "execution_count": null,
      "outputs": [
        {
          "output_type": "execute_result",
          "data": {
            "text/plain": [
              "tensor([[[1, 2, 3],\n",
              "         [2, 4, 5],\n",
              "         [5, 6, 7]]])"
            ]
          },
          "metadata": {},
          "execution_count": 31
        }
      ]
    },
    {
      "cell_type": "code",
      "source": [
        "TENSOR.ndim"
      ],
      "metadata": {
        "colab": {
          "base_uri": "https://localhost:8080/"
        },
        "id": "iJqhz5fb171D",
        "outputId": "c53b2b65-de1b-4bcc-c91b-a4bb0d68a650"
      },
      "execution_count": null,
      "outputs": [
        {
          "output_type": "execute_result",
          "data": {
            "text/plain": [
              "3"
            ]
          },
          "metadata": {},
          "execution_count": 33
        }
      ]
    },
    {
      "cell_type": "code",
      "source": [
        "TENSOR.shape"
      ],
      "metadata": {
        "colab": {
          "base_uri": "https://localhost:8080/"
        },
        "id": "aZ7PerAK1dT4",
        "outputId": "13cf90a5-c278-4504-bcd7-dddf61510295"
      },
      "execution_count": null,
      "outputs": [
        {
          "output_type": "execute_result",
          "data": {
            "text/plain": [
              "torch.Size([1, 3, 3])"
            ]
          },
          "metadata": {},
          "execution_count": 34
        }
      ]
    },
    {
      "cell_type": "code",
      "source": [
        "TENSOR[0]"
      ],
      "metadata": {
        "colab": {
          "base_uri": "https://localhost:8080/"
        },
        "id": "DmgztMGX1m5v",
        "outputId": "92fe4918-4a16-4d74-8445-f29189562d58"
      },
      "execution_count": null,
      "outputs": [
        {
          "output_type": "execute_result",
          "data": {
            "text/plain": [
              "tensor([[1, 2, 3],\n",
              "        [2, 4, 5],\n",
              "        [5, 6, 7]])"
            ]
          },
          "metadata": {},
          "execution_count": 35
        }
      ]
    },
    {
      "cell_type": "markdown",
      "source": [
        "random tensor"
      ],
      "metadata": {
        "id": "04_rhQab2juk"
      }
    },
    {
      "cell_type": "code",
      "source": [
        "#creating the random tensor of size (9,4)\n",
        "random_tensor=torch.rand(1,3,4)\n",
        "random_tensor"
      ],
      "metadata": {
        "colab": {
          "base_uri": "https://localhost:8080/"
        },
        "id": "kPew2lBN2l9i",
        "outputId": "1ec0425b-78b3-43ea-ae89-270b4f0d7bd5"
      },
      "execution_count": null,
      "outputs": [
        {
          "output_type": "execute_result",
          "data": {
            "text/plain": [
              "tensor([[0.0298, 0.7332, 0.9518, 0.1373],\n",
              "        [0.1649, 0.2093, 0.4030, 0.9485],\n",
              "        [0.7896, 0.7622, 0.8225, 0.6004]])"
            ]
          },
          "metadata": {},
          "execution_count": 37
        }
      ]
    },
    {
      "cell_type": "code",
      "source": [
        "random_tensor.ndim"
      ],
      "metadata": {
        "colab": {
          "base_uri": "https://localhost:8080/"
        },
        "id": "u4OWAihl5b8X",
        "outputId": "d92a1e69-fa91-4f67-d0c1-bf1e0a4ec75e"
      },
      "execution_count": null,
      "outputs": [
        {
          "output_type": "execute_result",
          "data": {
            "text/plain": [
              "2"
            ]
          },
          "metadata": {},
          "execution_count": 38
        }
      ]
    },
    {
      "cell_type": "code",
      "source": [
        "#creating the random tensor of size \n",
        "random_tensor=torch.rand(1,3,4)\n",
        "random_tensor"
      ],
      "metadata": {
        "colab": {
          "base_uri": "https://localhost:8080/"
        },
        "id": "6sqPpzu15jL5",
        "outputId": "d62b18c1-edde-4bc0-ea44-12cd430e0483"
      },
      "execution_count": null,
      "outputs": [
        {
          "output_type": "execute_result",
          "data": {
            "text/plain": [
              "tensor([[[0.3581, 0.2966, 0.6863, 0.3259],\n",
              "         [0.4214, 0.9814, 0.5580, 0.8863],\n",
              "         [0.0419, 0.2627, 0.5692, 0.0446]]])"
            ]
          },
          "metadata": {},
          "execution_count": 39
        }
      ]
    },
    {
      "cell_type": "code",
      "source": [
        "random_tensor.ndim"
      ],
      "metadata": {
        "colab": {
          "base_uri": "https://localhost:8080/"
        },
        "id": "6Q5VELAZ5rci",
        "outputId": "f072dd6b-e729-4d70-da9a-d490decf3233"
      },
      "execution_count": null,
      "outputs": [
        {
          "output_type": "execute_result",
          "data": {
            "text/plain": [
              "3"
            ]
          },
          "metadata": {},
          "execution_count": 40
        }
      ]
    },
    {
      "cell_type": "code",
      "source": [
        "random_tensor=torch.rand(3,4)\n",
        "random_tensor"
      ],
      "metadata": {
        "colab": {
          "base_uri": "https://localhost:8080/"
        },
        "id": "pbf7jntd-uCb",
        "outputId": "c1173063-1c2a-4b3b-aefc-58aa9ba9651e"
      },
      "execution_count": null,
      "outputs": [
        {
          "output_type": "execute_result",
          "data": {
            "text/plain": [
              "tensor([[0.4763, 0.4572, 0.3635, 0.0855],\n",
              "        [0.9992, 0.9800, 0.3209, 0.5444],\n",
              "        [0.1388, 0.7446, 0.3877, 0.8686]])"
            ]
          },
          "metadata": {},
          "execution_count": 5
        }
      ]
    },
    {
      "cell_type": "code",
      "source": [
        "#creating a random tensor with similar shape to an image tensor\n",
        "random_image_size_tensor=torch.rand(size=(224,224,3))# height,width,color channel\n",
        "random_image_size_tensor.shape, random_image_size_tensor.ndim"
      ],
      "metadata": {
        "colab": {
          "base_uri": "https://localhost:8080/"
        },
        "id": "x4MP1ok45toE",
        "outputId": "af3e086c-4c80-4a57-bbd4-012ea57eda64"
      },
      "execution_count": null,
      "outputs": [
        {
          "output_type": "execute_result",
          "data": {
            "text/plain": [
              "(torch.Size([224, 224, 3]), 3)"
            ]
          },
          "metadata": {},
          "execution_count": 41
        }
      ]
    },
    {
      "cell_type": "markdown",
      "source": [
        "zeros and ones\n"
      ],
      "metadata": {
        "id": "quCFPHW96v--"
      }
    },
    {
      "cell_type": "code",
      "source": [
        "#creatiung the tensor  of all zeros\n",
        "zeros=torch.zeros(size=(3,4))\n",
        "zeros"
      ],
      "metadata": {
        "colab": {
          "base_uri": "https://localhost:8080/"
        },
        "id": "7jYVQaGT6zb_",
        "outputId": "eda6c4de-5b5a-40c0-ff00-77114bc94b90"
      },
      "execution_count": null,
      "outputs": [
        {
          "output_type": "execute_result",
          "data": {
            "text/plain": [
              "tensor([[0., 0., 0., 0.],\n",
              "        [0., 0., 0., 0.],\n",
              "        [0., 0., 0., 0.]])"
            ]
          },
          "metadata": {},
          "execution_count": 2
        }
      ]
    },
    {
      "cell_type": "code",
      "source": [
        "zeros*random_tensor"
      ],
      "metadata": {
        "colab": {
          "base_uri": "https://localhost:8080/"
        },
        "id": "ikKChPzY-dcV",
        "outputId": "d7c3fe0c-ceaa-4a1f-ab05-777be629753d"
      },
      "execution_count": null,
      "outputs": [
        {
          "output_type": "execute_result",
          "data": {
            "text/plain": [
              "tensor([[0., 0., 0., 0.],\n",
              "        [0., 0., 0., 0.],\n",
              "        [0., 0., 0., 0.]])"
            ]
          },
          "metadata": {},
          "execution_count": 8
        }
      ]
    },
    {
      "cell_type": "code",
      "source": [
        "#creating the  tensor of all ones\n",
        "\n",
        "ones=torch.ones(size=(3,4))\n",
        "ones"
      ],
      "metadata": {
        "colab": {
          "base_uri": "https://localhost:8080/"
        },
        "id": "TBz1Htuj-pwL",
        "outputId": "513789a2-39ec-470c-b07c-31ac01c8c900"
      },
      "execution_count": null,
      "outputs": [
        {
          "output_type": "execute_result",
          "data": {
            "text/plain": [
              "tensor([[1., 1., 1., 1.],\n",
              "        [1., 1., 1., 1.],\n",
              "        [1., 1., 1., 1.]])"
            ]
          },
          "metadata": {},
          "execution_count": 10
        }
      ]
    },
    {
      "cell_type": "code",
      "source": [
        "ones.dtype"
      ],
      "metadata": {
        "colab": {
          "base_uri": "https://localhost:8080/"
        },
        "id": "VoYoDwfdI4u_",
        "outputId": "d272e493-8f9d-4e5d-818b-cc9e03cefa47"
      },
      "execution_count": null,
      "outputs": [
        {
          "output_type": "execute_result",
          "data": {
            "text/plain": [
              "torch.float32"
            ]
          },
          "metadata": {},
          "execution_count": 11
        }
      ]
    },
    {
      "cell_type": "code",
      "source": [
        "zeros.dtype"
      ],
      "metadata": {
        "colab": {
          "base_uri": "https://localhost:8080/"
        },
        "id": "6i-dOeW4I_9-",
        "outputId": "97581986-4b76-4629-a432-f55b4fbd5176"
      },
      "execution_count": null,
      "outputs": [
        {
          "output_type": "execute_result",
          "data": {
            "text/plain": [
              "torch.float32"
            ]
          },
          "metadata": {},
          "execution_count": 12
        }
      ]
    },
    {
      "cell_type": "code",
      "source": [
        "random_tensor.dtype"
      ],
      "metadata": {
        "colab": {
          "base_uri": "https://localhost:8080/"
        },
        "id": "4cPvf2QUJDVr",
        "outputId": "50061e3c-71ef-407d-9e5d-d991fb0d046a"
      },
      "execution_count": null,
      "outputs": [
        {
          "output_type": "execute_result",
          "data": {
            "text/plain": [
              "torch.float32"
            ]
          },
          "metadata": {},
          "execution_count": 13
        }
      ]
    },
    {
      "cell_type": "markdown",
      "source": [
        "Creating a range of tensors and tensors-like\n"
      ],
      "metadata": {
        "id": "KvM0se1wJi-_"
      }
    },
    {
      "cell_type": "code",
      "source": [
        "# use torch.arange()\n",
        "one_to_ten=torch.arange(1,11)\n",
        "one_to_ten"
      ],
      "metadata": {
        "colab": {
          "base_uri": "https://localhost:8080/"
        },
        "id": "i2pGJ1POJt5L",
        "outputId": "8890a9dd-5ebc-4e33-e9b1-d889a7914dda"
      },
      "execution_count": null,
      "outputs": [
        {
          "output_type": "execute_result",
          "data": {
            "text/plain": [
              "tensor([ 1,  2,  3,  4,  5,  6,  7,  8,  9, 10])"
            ]
          },
          "metadata": {},
          "execution_count": 14
        }
      ]
    },
    {
      "cell_type": "code",
      "source": [
        "number=torch.arange(start=1,end=1000,step=33)\n",
        "number"
      ],
      "metadata": {
        "colab": {
          "base_uri": "https://localhost:8080/"
        },
        "id": "U9OWKRSCKaz-",
        "outputId": "0d835ff4-1a3f-41a3-8a31-0a9e1cdcae8f"
      },
      "execution_count": null,
      "outputs": [
        {
          "output_type": "execute_result",
          "data": {
            "text/plain": [
              "tensor([  1,  34,  67, 100, 133, 166, 199, 232, 265, 298, 331, 364, 397, 430,\n",
              "        463, 496, 529, 562, 595, 628, 661, 694, 727, 760, 793, 826, 859, 892,\n",
              "        925, 958, 991])"
            ]
          },
          "metadata": {},
          "execution_count": 15
        }
      ]
    },
    {
      "cell_type": "code",
      "source": [
        "# creating tensor like\n",
        "the_zeros=torch.zeros_like(input=number)\n",
        "the_zeros"
      ],
      "metadata": {
        "colab": {
          "base_uri": "https://localhost:8080/"
        },
        "id": "z_MHoo6QM_rr",
        "outputId": "6d899316-0c43-4710-e587-93ec8ba06fce"
      },
      "execution_count": null,
      "outputs": [
        {
          "output_type": "execute_result",
          "data": {
            "text/plain": [
              "tensor([0, 0, 0, 0, 0, 0, 0, 0, 0, 0, 0, 0, 0, 0, 0, 0, 0, 0, 0, 0, 0, 0, 0, 0,\n",
              "        0, 0, 0, 0, 0, 0, 0])"
            ]
          },
          "metadata": {},
          "execution_count": 17
        }
      ]
    },
    {
      "cell_type": "markdown",
      "source": [
        "Tensor datatype\n",
        "\n",
        "\n",
        "tensor datatype is one of the 3 big error u will run with pytorch and deep learing\n",
        "\n",
        "1.tensor is not a right datatype\n",
        "2.tensor not right shape\n",
        "3.tensor not on the right device\n",
        "\n"
      ],
      "metadata": {
        "id": "WeW8OdnUNb6V"
      }
    },
    {
      "cell_type": "code",
      "source": [
        "#float 32 tensor\n",
        "float_32_tensor=torch.tensor([3.0,4.0,7.0],\n",
        "                            dtype=None )\n",
        "float_32_tensor\n"
      ],
      "metadata": {
        "id": "I_WOPHxQNenW",
        "colab": {
          "base_uri": "https://localhost:8080/"
        },
        "outputId": "bddee3f1-4a99-4d56-c9b9-54734e1ed13a"
      },
      "execution_count": null,
      "outputs": [
        {
          "output_type": "execute_result",
          "data": {
            "text/plain": [
              "tensor([3., 4., 7.])"
            ]
          },
          "metadata": {},
          "execution_count": 3
        }
      ]
    },
    {
      "cell_type": "code",
      "source": [
        "float_32_tensor.dtype"
      ],
      "metadata": {
        "colab": {
          "base_uri": "https://localhost:8080/"
        },
        "id": "sCwZOtwk26Oy",
        "outputId": "9643ccb5-ec82-48a3-c05f-be305697d956"
      },
      "execution_count": null,
      "outputs": [
        {
          "output_type": "execute_result",
          "data": {
            "text/plain": [
              "torch.float32"
            ]
          },
          "metadata": {},
          "execution_count": 4
        }
      ]
    },
    {
      "cell_type": "code",
      "source": [
        "float_16_tensor=torch.tensor([3.0,4.0,7.0],\n",
        "                            dtype=torch.float16 )\n",
        "float_16_tensor\n"
      ],
      "metadata": {
        "colab": {
          "base_uri": "https://localhost:8080/"
        },
        "id": "18tlHkjb3HHA",
        "outputId": "c5fe93ce-bbda-495c-b88e-0a0cbe6a35ec"
      },
      "execution_count": null,
      "outputs": [
        {
          "output_type": "execute_result",
          "data": {
            "text/plain": [
              "tensor([3., 4., 7.], dtype=torch.float16)"
            ]
          },
          "metadata": {},
          "execution_count": 8
        }
      ]
    },
    {
      "cell_type": "code",
      "source": [
        "float_16_tensor.dtype"
      ],
      "metadata": {
        "colab": {
          "base_uri": "https://localhost:8080/"
        },
        "id": "WEPRq_Xq3XSQ",
        "outputId": "136a9620-d995-492b-c0e1-3746ea255125"
      },
      "execution_count": null,
      "outputs": [
        {
          "output_type": "execute_result",
          "data": {
            "text/plain": [
              "torch.float16"
            ]
          },
          "metadata": {},
          "execution_count": 9
        }
      ]
    },
    {
      "cell_type": "code",
      "source": [
        "float_32_tensor=torch.tensor([3.0,4.0,7.0],\n",
        "                            dtype=None,#datatype of tensor\n",
        "                             device=None,#device is ur tensor on\n",
        "                            requires_grad=False)#whether or not gradients with this tensor operation\n",
        "float_32_tensor\n"
      ],
      "metadata": {
        "colab": {
          "base_uri": "https://localhost:8080/"
        },
        "id": "stDPLitG3bzV",
        "outputId": "fee32a82-a5b6-43e9-a83e-5435dbda938b"
      },
      "execution_count": null,
      "outputs": [
        {
          "output_type": "execute_result",
          "data": {
            "text/plain": [
              "tensor([3., 4., 7.])"
            ]
          },
          "metadata": {},
          "execution_count": 10
        }
      ]
    },
    {
      "cell_type": "code",
      "source": [
        "float_16_tensor=float_32_tensor.type(torch.float16)\n",
        "float_16_tensor"
      ],
      "metadata": {
        "colab": {
          "base_uri": "https://localhost:8080/"
        },
        "id": "mPC-IjXW4oq9",
        "outputId": "118fb647-211f-4e49-9a9b-d9494e58d34a"
      },
      "execution_count": null,
      "outputs": [
        {
          "output_type": "execute_result",
          "data": {
            "text/plain": [
              "tensor([3., 4., 7.], dtype=torch.float16)"
            ]
          },
          "metadata": {},
          "execution_count": 11
        }
      ]
    },
    {
      "cell_type": "code",
      "source": [
        "float_16_tensor*float_32_tensor"
      ],
      "metadata": {
        "colab": {
          "base_uri": "https://localhost:8080/"
        },
        "id": "D99FlInI46tM",
        "outputId": "08914919-6363-4276-d033-8b1fddabdb07"
      },
      "execution_count": null,
      "outputs": [
        {
          "output_type": "execute_result",
          "data": {
            "text/plain": [
              "tensor([ 9., 16., 49.])"
            ]
          },
          "metadata": {},
          "execution_count": 12
        }
      ]
    },
    {
      "cell_type": "code",
      "source": [
        "int_32_tensor=torch.tensor([2,4,5],dtype=torch.int32)\n",
        "int_32_tensor"
      ],
      "metadata": {
        "colab": {
          "base_uri": "https://localhost:8080/"
        },
        "id": "VWSdpYn75Lit",
        "outputId": "b663d585-1716-4be7-c574-961c3186d944"
      },
      "execution_count": null,
      "outputs": [
        {
          "output_type": "execute_result",
          "data": {
            "text/plain": [
              "tensor([2, 4, 5], dtype=torch.int32)"
            ]
          },
          "metadata": {},
          "execution_count": 13
        }
      ]
    },
    {
      "cell_type": "code",
      "source": [
        "float_32_tensor*int_32_tensor"
      ],
      "metadata": {
        "colab": {
          "base_uri": "https://localhost:8080/"
        },
        "id": "9y0NFPPr5k0Q",
        "outputId": "715bbb5f-3e9b-4d70-e144-53d238ab57a3"
      },
      "execution_count": null,
      "outputs": [
        {
          "output_type": "execute_result",
          "data": {
            "text/plain": [
              "tensor([ 6., 16., 35.])"
            ]
          },
          "metadata": {},
          "execution_count": 14
        }
      ]
    },
    {
      "cell_type": "code",
      "source": [
        "int_64_tensor=torch.tensor([2,4,5],dtype=torch.int64)\n",
        "int_64_tensor"
      ],
      "metadata": {
        "colab": {
          "base_uri": "https://localhost:8080/"
        },
        "id": "eoSmu5b55qtf",
        "outputId": "bd722f14-94ec-4595-91fd-296198b66d5c"
      },
      "execution_count": null,
      "outputs": [
        {
          "output_type": "execute_result",
          "data": {
            "text/plain": [
              "tensor([2, 4, 5])"
            ]
          },
          "metadata": {},
          "execution_count": 17
        }
      ]
    },
    {
      "cell_type": "code",
      "source": [
        "float_32_tensor*int_64_tensor"
      ],
      "metadata": {
        "colab": {
          "base_uri": "https://localhost:8080/"
        },
        "id": "lZlWKUL25xcA",
        "outputId": "86e1f936-8e47-45bc-9c6e-e93fde7fdc55"
      },
      "execution_count": null,
      "outputs": [
        {
          "output_type": "execute_result",
          "data": {
            "text/plain": [
              "tensor([ 6., 16., 35.])"
            ]
          },
          "metadata": {},
          "execution_count": 19
        }
      ]
    },
    {
      "cell_type": "code",
      "source": [
        "int_long_tensor=torch.tensor([2,4,5],dtype=torch.long)\n",
        "int_long_tensor"
      ],
      "metadata": {
        "colab": {
          "base_uri": "https://localhost:8080/"
        },
        "id": "V085393A5zVv",
        "outputId": "0f301acb-c13f-4527-8b26-a37dc602ee54"
      },
      "execution_count": null,
      "outputs": [
        {
          "output_type": "execute_result",
          "data": {
            "text/plain": [
              "tensor([2, 4, 5])"
            ]
          },
          "metadata": {},
          "execution_count": 20
        }
      ]
    },
    {
      "cell_type": "code",
      "source": [
        "float_32_tensor*int_long_tensor"
      ],
      "metadata": {
        "colab": {
          "base_uri": "https://localhost:8080/"
        },
        "id": "HPvCArRJ6Mjh",
        "outputId": "ef727c8d-134e-420a-fd35-45914f7ce18f"
      },
      "execution_count": null,
      "outputs": [
        {
          "output_type": "execute_result",
          "data": {
            "text/plain": [
              "tensor([ 6., 16., 35.])"
            ]
          },
          "metadata": {},
          "execution_count": 21
        }
      ]
    },
    {
      "cell_type": "code",
      "source": [],
      "metadata": {
        "id": "CNeU40Eo6PdD"
      },
      "execution_count": null,
      "outputs": []
    },
    {
      "cell_type": "markdown",
      "source": [
        "getting the information from tensor (tensor attributes)\n",
        "\n",
        "1.tensor not right datatype-tensor.dtype\n",
        "\n",
        "2.tensor not right shape-tensor.shape\n",
        "\n",
        "3 tensor not on the right device-tensor.device\n",
        "\n"
      ],
      "metadata": {
        "id": "OJ7SSZQB-XC1"
      }
    },
    {
      "cell_type": "code",
      "source": [
        "#creating the tensor\n",
        "some_tensor=torch.rand(3,4)\n",
        "some_tensor"
      ],
      "metadata": {
        "colab": {
          "base_uri": "https://localhost:8080/"
        },
        "id": "t0vUSmwU_MSe",
        "outputId": "f5a90f4c-4059-40e6-d2d9-a678e054898e"
      },
      "execution_count": null,
      "outputs": [
        {
          "output_type": "execute_result",
          "data": {
            "text/plain": [
              "tensor([[0.5081, 0.0421, 0.9228, 0.9778],\n",
              "        [0.3125, 0.2568, 0.3084, 0.8525],\n",
              "        [0.2494, 0.6900, 0.3985, 0.3319]])"
            ]
          },
          "metadata": {},
          "execution_count": 24
        }
      ]
    },
    {
      "cell_type": "code",
      "source": [
        "some_tensor.size(),some_tensor.shape"
      ],
      "metadata": {
        "colab": {
          "base_uri": "https://localhost:8080/"
        },
        "id": "6POMpuM3Aypl",
        "outputId": "19790c9e-9ca2-4015-a8ca-6c2a5ebe0fbe"
      },
      "execution_count": null,
      "outputs": [
        {
          "output_type": "execute_result",
          "data": {
            "text/plain": [
              "(torch.Size([3, 4]), torch.Size([3, 4]))"
            ]
          },
          "metadata": {},
          "execution_count": 29
        }
      ]
    },
    {
      "cell_type": "code",
      "source": [
        "#find out details about some tensor \n",
        "\n",
        "print(some_tensor)\n",
        "print(f\"datatype of tensor:{some_tensor.dtype}\")\n",
        "print(f\"shape of the tensor:{some_tensor.shape}\")\n",
        "print(f\"device tensor is on:{some_tensor.device}\")"
      ],
      "metadata": {
        "colab": {
          "base_uri": "https://localhost:8080/"
        },
        "id": "gg1beEYG_WnE",
        "outputId": "e205dee1-2896-43c9-a96f-b12f88219af4"
      },
      "execution_count": null,
      "outputs": [
        {
          "output_type": "stream",
          "name": "stdout",
          "text": [
            "tensor([[0.5081, 0.0421, 0.9228, 0.9778],\n",
            "        [0.3125, 0.2568, 0.3084, 0.8525],\n",
            "        [0.2494, 0.6900, 0.3985, 0.3319]])\n",
            "datatype of tensor:torch.float32\n",
            "shape of the tensor:torch.Size([3, 4])\n",
            "device tensor is on:cpu\n"
          ]
        }
      ]
    },
    {
      "cell_type": "markdown",
      "source": [
        "manipulating the tensor(tensor operation\n",
        "\n",
        "1.addition\n",
        "\n",
        "2.sub\n",
        "\n",
        "3.mull\n",
        "\n",
        "4.division\n",
        "\n",
        "5.matrix mull\n",
        "\n"
      ],
      "metadata": {
        "id": "TRugDsbyq7kK"
      }
    },
    {
      "cell_type": "code",
      "source": [
        "#creating the tensor and add 10 to it\n",
        "tensor=torch.tensor([1,2,3])\n",
        "tensor+10"
      ],
      "metadata": {
        "colab": {
          "base_uri": "https://localhost:8080/"
        },
        "id": "vlwH7CDBrIKp",
        "outputId": "99137b6f-30d6-4913-dfb2-3ae2d05f55ca"
      },
      "execution_count": null,
      "outputs": [
        {
          "output_type": "execute_result",
          "data": {
            "text/plain": [
              "tensor([11, 12, 13])"
            ]
          },
          "metadata": {},
          "execution_count": 3
        }
      ]
    },
    {
      "cell_type": "code",
      "source": [
        "#mull\n",
        "tensor*10"
      ],
      "metadata": {
        "colab": {
          "base_uri": "https://localhost:8080/"
        },
        "id": "rr2e2NcdrVZ7",
        "outputId": "a66ef51b-3005-4ba5-87d1-42683a2226b9"
      },
      "execution_count": null,
      "outputs": [
        {
          "output_type": "execute_result",
          "data": {
            "text/plain": [
              "tensor([10, 20, 30])"
            ]
          },
          "metadata": {},
          "execution_count": 4
        }
      ]
    },
    {
      "cell_type": "code",
      "source": [
        "tensor-2#sub"
      ],
      "metadata": {
        "colab": {
          "base_uri": "https://localhost:8080/"
        },
        "id": "riPE5Hi2ru-b",
        "outputId": "18687fcf-0524-4a9d-9076-58951e9d1c70"
      },
      "execution_count": null,
      "outputs": [
        {
          "output_type": "execute_result",
          "data": {
            "text/plain": [
              "tensor([-1,  0,  1])"
            ]
          },
          "metadata": {},
          "execution_count": 6
        }
      ]
    },
    {
      "cell_type": "code",
      "source": [
        "# pytorch built-in\n",
        "torch.mul(tensor,10)"
      ],
      "metadata": {
        "colab": {
          "base_uri": "https://localhost:8080/"
        },
        "id": "7FdpKFd_r0Ga",
        "outputId": "c872b583-6f16-4b2b-c7dc-08ff1aac444a"
      },
      "execution_count": null,
      "outputs": [
        {
          "output_type": "execute_result",
          "data": {
            "text/plain": [
              "tensor([10, 20, 30])"
            ]
          },
          "metadata": {},
          "execution_count": 7
        }
      ]
    },
    {
      "cell_type": "code",
      "source": [
        "torch.add(tensor,10)"
      ],
      "metadata": {
        "colab": {
          "base_uri": "https://localhost:8080/"
        },
        "id": "o2NF9TWYsP6J",
        "outputId": "2248e661-7f42-4e81-99fe-726f321e7d53"
      },
      "execution_count": null,
      "outputs": [
        {
          "output_type": "execute_result",
          "data": {
            "text/plain": [
              "tensor([11, 12, 13])"
            ]
          },
          "metadata": {},
          "execution_count": 8
        }
      ]
    },
    {
      "cell_type": "markdown",
      "source": [
        "matrix mull(dot product)\n",
        "\n",
        "1.element wise multiplication\n",
        "\n",
        "2.matrix multiplication(dot product)\n",
        "\n",
        "***two main rules for matrix mull :-\n",
        "\n",
        "1.**inner dimension** must match\n",
        "\n",
        "'(3,2)@(3,2) 'wont works\n",
        "\n",
        "(2,4)@(4,2) works\n",
        "\n",
        "(7,8)@(8,7) works\n",
        "\n",
        "2.resulting matrix has the shape of the **outer dimension**\n",
        "\n",
        "'(3,4)@(4,5)'-->(3,5)\n",
        "\n",
        "'(8,3)@(3,5)'-->(8,5)\n",
        "\n",
        "\n",
        "\n",
        "\n",
        "\n",
        "\n"
      ],
      "metadata": {
        "id": "M1WoRaqpxXgI"
      }
    },
    {
      "cell_type": "code",
      "source": [
        "torch.matmul(torch.rand(3,2),torch.rand(2,4))"
      ],
      "metadata": {
        "colab": {
          "base_uri": "https://localhost:8080/"
        },
        "id": "lyqjajVuzGWD",
        "outputId": "94102f62-2b13-4091-f659-8093238bcd7e"
      },
      "execution_count": null,
      "outputs": [
        {
          "output_type": "execute_result",
          "data": {
            "text/plain": [
              "tensor([[0.5686, 0.5035, 0.4582, 0.3071],\n",
              "        [0.9778, 0.8428, 0.8013, 0.5116],\n",
              "        [1.2017, 0.9202, 1.0527, 0.5455]])"
            ]
          },
          "metadata": {},
          "execution_count": 18
        }
      ]
    },
    {
      "cell_type": "code",
      "source": [
        "print(tensor,\"*\",tensor)\n",
        "print(f\"equalsL:{tensor*tensor}\")"
      ],
      "metadata": {
        "colab": {
          "base_uri": "https://localhost:8080/"
        },
        "id": "5SWFIDc8xqTq",
        "outputId": "ab082cf5-79f3-4850-b848-9896c0bdfa54"
      },
      "execution_count": null,
      "outputs": [
        {
          "output_type": "stream",
          "name": "stdout",
          "text": [
            "tensor([1, 2, 3]) * tensor([1, 2, 3])\n",
            "equalsL:tensor([1, 4, 9])\n"
          ]
        }
      ]
    },
    {
      "cell_type": "code",
      "source": [
        "torch.matmul(tensor,tensor)"
      ],
      "metadata": {
        "colab": {
          "base_uri": "https://localhost:8080/"
        },
        "id": "sNfwZVjzxuBN",
        "outputId": "9ef770ee-be28-45f1-8971-2cb5402cc5ad"
      },
      "execution_count": null,
      "outputs": [
        {
          "output_type": "execute_result",
          "data": {
            "text/plain": [
              "tensor(14)"
            ]
          },
          "metadata": {},
          "execution_count": 12
        }
      ]
    },
    {
      "cell_type": "code",
      "source": [
        "%%time\n",
        "value=0\n",
        "for i in range(len(tensor)):\n",
        "  value+=tensor[i]*tensor[i]\n",
        "print(value)"
      ],
      "metadata": {
        "colab": {
          "base_uri": "https://localhost:8080/"
        },
        "id": "wAXgSkquyBew",
        "outputId": "2df8d2b9-958c-4b3f-f478-57c00e6bbca8"
      },
      "execution_count": null,
      "outputs": [
        {
          "output_type": "stream",
          "name": "stdout",
          "text": [
            "tensor(14)\n",
            "CPU times: user 2.66 ms, sys: 532 µs, total: 3.19 ms\n",
            "Wall time: 3.21 ms\n"
          ]
        }
      ]
    },
    {
      "cell_type": "code",
      "source": [
        "%%time\n",
        "torch.matmul(tensor,tensor)"
      ],
      "metadata": {
        "colab": {
          "base_uri": "https://localhost:8080/"
        },
        "id": "IpQYsCw0ySxd",
        "outputId": "dfb71799-cc4c-417d-f7e8-5f2dd5c76fad"
      },
      "execution_count": null,
      "outputs": [
        {
          "output_type": "stream",
          "name": "stdout",
          "text": [
            "CPU times: user 374 µs, sys: 51 µs, total: 425 µs\n",
            "Wall time: 319 µs\n"
          ]
        },
        {
          "output_type": "execute_result",
          "data": {
            "text/plain": [
              "tensor(14)"
            ]
          },
          "metadata": {},
          "execution_count": 14
        }
      ]
    },
    {
      "cell_type": "code",
      "source": [
        "#one common mistake :shape error in matrix mull\n",
        "tensor_a=torch.tensor([[1,2],\n",
        "           [3,4],\n",
        "           [5,6]])\n",
        "tensor_b=torch.tensor([[2,4],\n",
        "          [4,6],\n",
        "          [9,39]])"
      ],
      "metadata": {
        "id": "LFA9IBQOyb0f"
      },
      "execution_count": null,
      "outputs": []
    },
    {
      "cell_type": "code",
      "source": [
        "torch.mm(tensor_a, tensor_b) # matmul-->mm are same"
      ],
      "metadata": {
        "colab": {
          "base_uri": "https://localhost:8080/",
          "height": 171
        },
        "id": "1-uu0-lK0qmB",
        "outputId": "d89c2918-af40-4009-b396-4159cb298b71"
      },
      "execution_count": null,
      "outputs": [
        {
          "output_type": "error",
          "ename": "RuntimeError",
          "evalue": "ignored",
          "traceback": [
            "\u001b[0;31m---------------------------------------------------------------------------\u001b[0m",
            "\u001b[0;31mRuntimeError\u001b[0m                              Traceback (most recent call last)",
            "\u001b[0;32m<ipython-input-29-c402c782742a>\u001b[0m in \u001b[0;36m<module>\u001b[0;34m\u001b[0m\n\u001b[0;32m----> 1\u001b[0;31m \u001b[0mtorch\u001b[0m\u001b[0;34m.\u001b[0m\u001b[0mmm\u001b[0m\u001b[0;34m(\u001b[0m\u001b[0mtensor_a\u001b[0m\u001b[0;34m,\u001b[0m \u001b[0mtensor_b\u001b[0m\u001b[0;34m)\u001b[0m \u001b[0;31m# matmul-->mm are same\u001b[0m\u001b[0;34m\u001b[0m\u001b[0;34m\u001b[0m\u001b[0m\n\u001b[0m",
            "\u001b[0;31mRuntimeError\u001b[0m: mat1 and mat2 shapes cannot be multiplied (3x2 and 3x2)"
          ]
        }
      ]
    },
    {
      "cell_type": "code",
      "source": [
        "tensor_a.shape,tensor_b.shape"
      ],
      "metadata": {
        "colab": {
          "base_uri": "https://localhost:8080/"
        },
        "id": "9FFFxjRH01IL",
        "outputId": "ea02777a-550e-48b4-9bc0-6364bdf0fb67"
      },
      "execution_count": null,
      "outputs": [
        {
          "output_type": "execute_result",
          "data": {
            "text/plain": [
              "(torch.Size([3, 2]), torch.Size([3, 2]))"
            ]
          },
          "metadata": {},
          "execution_count": 30
        }
      ]
    },
    {
      "cell_type": "code",
      "source": [
        "#to fix the tensor  shape issuse ,we can manipulate the shape of one of our  tensor using the transpose\n",
        "\n",
        "# transpose-->switches the axes or dimension of the given tensor\n",
        "\n"
      ],
      "metadata": {
        "id": "8hpqSd-K1hlh"
      },
      "execution_count": null,
      "outputs": []
    },
    {
      "cell_type": "code",
      "source": [
        "tensor_b.shape"
      ],
      "metadata": {
        "colab": {
          "base_uri": "https://localhost:8080/"
        },
        "id": "D2Ai91Ad2nHy",
        "outputId": "f1abbe9f-9b36-46a7-9fd5-d103ff7a7260"
      },
      "execution_count": null,
      "outputs": [
        {
          "output_type": "execute_result",
          "data": {
            "text/plain": [
              "torch.Size([3, 2])"
            ]
          },
          "metadata": {},
          "execution_count": 32
        }
      ]
    },
    {
      "cell_type": "code",
      "source": [
        "tensor_b.T,tensor_b.shape"
      ],
      "metadata": {
        "colab": {
          "base_uri": "https://localhost:8080/"
        },
        "id": "jTDjv6TU2vCR",
        "outputId": "c357c317-dacd-4e87-999b-8960e498301f"
      },
      "execution_count": null,
      "outputs": [
        {
          "output_type": "execute_result",
          "data": {
            "text/plain": [
              "(tensor([[ 2,  4,  9],\n",
              "         [ 4,  6, 39]]), torch.Size([3, 2]))"
            ]
          },
          "metadata": {},
          "execution_count": 33
        }
      ]
    },
    {
      "cell_type": "code",
      "source": [
        "torch.matmul(tensor_a,tensor_b.T)"
      ],
      "metadata": {
        "colab": {
          "base_uri": "https://localhost:8080/"
        },
        "id": "obowuNoM21jJ",
        "outputId": "78d6aad9-24cf-4084-a9f1-e143f8942df7"
      },
      "execution_count": null,
      "outputs": [
        {
          "output_type": "execute_result",
          "data": {
            "text/plain": [
              "tensor([[ 10,  16,  87],\n",
              "        [ 22,  36, 183],\n",
              "        [ 34,  56, 279]])"
            ]
          },
          "metadata": {},
          "execution_count": 34
        }
      ]
    },
    {
      "cell_type": "code",
      "source": [
        " # The operation works when tensor_B is transposed\n",
        "print(f\"Original shapes: tensor_A = {tensor_a.shape}, tensor_B = {tensor_b.shape}\\n\")\n",
        "print(f\"New shapes: tensor_A = {tensor_a.shape} (same as above), tensor_B.T = {tensor_b.T.shape}\\n\")\n",
        "print(f\"Multiplying: {tensor_a.shape} * {tensor_b.T.shape} <- inner dimensions match\\n\")\n",
        "print(\"Output:\\n\")\n",
        "output = torch.matmul(tensor_a, tensor_b.T)\n",
        "print(output) \n",
        "print(f\"\\nOutput shape: {output.shape}\")"
      ],
      "metadata": {
        "colab": {
          "base_uri": "https://localhost:8080/"
        },
        "id": "xzUSGByG3Awa",
        "outputId": "2be07d27-db0d-4ce3-9b68-f5c739f7be56"
      },
      "execution_count": null,
      "outputs": [
        {
          "output_type": "stream",
          "name": "stdout",
          "text": [
            "Original shapes: tensor_A = torch.Size([3, 2]), tensor_B = torch.Size([3, 2])\n",
            "\n",
            "New shapes: tensor_A = torch.Size([3, 2]) (same as above), tensor_B.T = torch.Size([2, 3])\n",
            "\n",
            "Multiplying: torch.Size([3, 2]) * torch.Size([2, 3]) <- inner dimensions match\n",
            "\n",
            "Output:\n",
            "\n",
            "tensor([[ 10,  16,  87],\n",
            "        [ 22,  36, 183],\n",
            "        [ 34,  56, 279]])\n",
            "\n",
            "Output shape: torch.Size([3, 3])\n"
          ]
        }
      ]
    },
    {
      "cell_type": "markdown",
      "source": [
        "finding the min max mean sum,etc(tensor aggregation)\n",
        "\n",
        "\n"
      ],
      "metadata": {
        "id": "BXQsmNm1ESPF"
      }
    },
    {
      "cell_type": "code",
      "source": [
        "x=torch.arange(0,100,10)\n",
        "x,x.dtype"
      ],
      "metadata": {
        "colab": {
          "base_uri": "https://localhost:8080/"
        },
        "id": "7N6amdFbE2ka",
        "outputId": "519b150c-56cb-4e52-88b5-211c5c9b8a84"
      },
      "execution_count": null,
      "outputs": [
        {
          "output_type": "execute_result",
          "data": {
            "text/plain": [
              "(tensor([ 0, 10, 20, 30, 40, 50, 60, 70, 80, 90]), torch.int64)"
            ]
          },
          "metadata": {},
          "execution_count": 37
        }
      ]
    },
    {
      "cell_type": "code",
      "source": [
        "#find the min\n",
        "\n",
        "\n",
        "torch.min(x),x.min()\n"
      ],
      "metadata": {
        "colab": {
          "base_uri": "https://localhost:8080/"
        },
        "id": "CU_h8nFJEqFF",
        "outputId": "6f691a17-6941-441f-edf8-76d3ca78690e"
      },
      "execution_count": null,
      "outputs": [
        {
          "output_type": "execute_result",
          "data": {
            "text/plain": [
              "(tensor(0), tensor(0))"
            ]
          },
          "metadata": {},
          "execution_count": 39
        }
      ]
    },
    {
      "cell_type": "code",
      "source": [
        "#find the max\n",
        "\n",
        "torch.max(x),x.max()"
      ],
      "metadata": {
        "colab": {
          "base_uri": "https://localhost:8080/"
        },
        "id": "ozonkRCXE0Ea",
        "outputId": "717c4e7d-251c-4644-8ec5-6fe49ec7e39f"
      },
      "execution_count": null,
      "outputs": [
        {
          "output_type": "execute_result",
          "data": {
            "text/plain": [
              "(tensor(90), tensor(90))"
            ]
          },
          "metadata": {},
          "execution_count": 40
        }
      ]
    },
    {
      "cell_type": "code",
      "source": [
        "#find the mean -note:torch.mean() funtion requires a tensor of float32 datatype to work\n",
        "\n",
        "torch.mean(x.type(torch.float32)),x.type(torch.float32).mean()"
      ],
      "metadata": {
        "colab": {
          "base_uri": "https://localhost:8080/"
        },
        "id": "SSoPuCOaGAMN",
        "outputId": "444f1164-dc8d-4137-8dcf-9c582ca40a2d"
      },
      "execution_count": null,
      "outputs": [
        {
          "output_type": "execute_result",
          "data": {
            "text/plain": [
              "(tensor(45.), tensor(45.))"
            ]
          },
          "metadata": {},
          "execution_count": 42
        }
      ]
    },
    {
      "cell_type": "code",
      "source": [
        "torch.sum(x)"
      ],
      "metadata": {
        "colab": {
          "base_uri": "https://localhost:8080/"
        },
        "id": "C5nUVXtjGcpL",
        "outputId": "491e1bbe-323e-4b09-949f-cdbafbb88bf5"
      },
      "execution_count": null,
      "outputs": [
        {
          "output_type": "execute_result",
          "data": {
            "text/plain": [
              "tensor(450)"
            ]
          },
          "metadata": {},
          "execution_count": 43
        }
      ]
    },
    {
      "cell_type": "markdown",
      "source": [
        "finding the position min and max\n",
        "\n",
        "\n",
        "\n",
        "\n"
      ],
      "metadata": {
        "id": "mssyLmq0HFJ0"
      }
    },
    {
      "cell_type": "code",
      "source": [
        "x"
      ],
      "metadata": {
        "colab": {
          "base_uri": "https://localhost:8080/"
        },
        "id": "sY1SAneiHP0l",
        "outputId": "c0d9622e-b7be-474b-b18e-be379d1bc4c7"
      },
      "execution_count": null,
      "outputs": [
        {
          "output_type": "execute_result",
          "data": {
            "text/plain": [
              "tensor([ 0, 10, 20, 30, 40, 50, 60, 70, 80, 90])"
            ]
          },
          "metadata": {},
          "execution_count": 44
        }
      ]
    },
    {
      "cell_type": "code",
      "source": [
        "x.argmin() # argmin -> return index position of target tensor that has minmum value with argmamax()"
      ],
      "metadata": {
        "colab": {
          "base_uri": "https://localhost:8080/"
        },
        "id": "zVy_o0LsHRGU",
        "outputId": "716fbcbc-aa01-4437-b96f-782dfd752213"
      },
      "execution_count": null,
      "outputs": [
        {
          "output_type": "execute_result",
          "data": {
            "text/plain": [
              "tensor(0)"
            ]
          },
          "metadata": {},
          "execution_count": 45
        }
      ]
    },
    {
      "cell_type": "code",
      "source": [
        "x.argmax()"
      ],
      "metadata": {
        "colab": {
          "base_uri": "https://localhost:8080/"
        },
        "id": "EB8s6J5jHVI8",
        "outputId": "c739a085-6cb4-4376-fb92-f86589cb1220"
      },
      "execution_count": null,
      "outputs": [
        {
          "output_type": "execute_result",
          "data": {
            "text/plain": [
              "tensor(9)"
            ]
          },
          "metadata": {},
          "execution_count": 46
        }
      ]
    },
    {
      "cell_type": "markdown",
      "source": [
        "1.**Reshape**-reshape an input tensor to  defind shape\n",
        "\n",
        "2.**viem**-return a view of an input tensor of certain shape but keep the same memory as the original tensor\n",
        "\n",
        "3.**squeeze**-remove all the 1 dimension in tensor \n",
        "\n",
        "4.**stacking**-combine all the tensor on top of each other(vstack) or side by side (hstack)\n",
        "\n",
        "5.**Unsqueeze**-add 1 dimension to the target tensor\n",
        "\n",
        "6.**Permute**-return a view of the input with dimension permuted(swapped)in certain way\n",
        " \n"
      ],
      "metadata": {
        "id": "gG-HpdXyIlff"
      }
    },
    {
      "cell_type": "code",
      "source": [
        "#let create a tensor\n",
        "import torch \n",
        "x=torch.arange(1.,10.)\n",
        "x,x.shape"
      ],
      "metadata": {
        "colab": {
          "base_uri": "https://localhost:8080/"
        },
        "id": "7EYBuGb_3AtD",
        "outputId": "5bf1eaf0-1828-4b98-aa2e-b42748f6c585"
      },
      "execution_count": null,
      "outputs": [
        {
          "output_type": "execute_result",
          "data": {
            "text/plain": [
              "(tensor([1., 2., 3., 4., 5., 6., 7., 8., 9.]), torch.Size([9]))"
            ]
          },
          "metadata": {},
          "execution_count": 2
        }
      ]
    },
    {
      "cell_type": "code",
      "source": [
        "#add extra dimension\n",
        "x_reshaped=x.reshape(1,9)\n",
        "x_reshaped,x_reshaped.shape"
      ],
      "metadata": {
        "colab": {
          "base_uri": "https://localhost:8080/"
        },
        "id": "55q16f_V3RWN",
        "outputId": "542bd546-4460-4bfa-b2b6-739b79dd8184"
      },
      "execution_count": null,
      "outputs": [
        {
          "output_type": "execute_result",
          "data": {
            "text/plain": [
              "(tensor([[5., 2., 3., 4., 5., 6., 7., 8., 9.]]), torch.Size([1, 9]))"
            ]
          },
          "metadata": {},
          "execution_count": 22
        }
      ]
    },
    {
      "cell_type": "code",
      "source": [
        "z=x.view(1,9)\n",
        "z,z.shape"
      ],
      "metadata": {
        "colab": {
          "base_uri": "https://localhost:8080/"
        },
        "id": "9IFTFcTB35qz",
        "outputId": "0d9b5aad-35b1-48a0-e2f7-853cd7d81803"
      },
      "execution_count": null,
      "outputs": [
        {
          "output_type": "execute_result",
          "data": {
            "text/plain": [
              "(tensor([[5., 2., 3., 4., 5., 6., 7., 8., 9.]]), torch.Size([1, 9]))"
            ]
          },
          "metadata": {},
          "execution_count": 23
        }
      ]
    },
    {
      "cell_type": "code",
      "source": [
        "z[:,0]=5 #changing the z changes the x (bez a view of tensor shares the same memory as the original input)\n",
        "z,x"
      ],
      "metadata": {
        "colab": {
          "base_uri": "https://localhost:8080/"
        },
        "id": "m_xLa6u7Ff_V",
        "outputId": "cf95df6f-db70-497c-8d02-3156bd6bf886"
      },
      "execution_count": null,
      "outputs": [
        {
          "output_type": "execute_result",
          "data": {
            "text/plain": [
              "(tensor([[5., 2., 3., 4., 5., 6., 7., 8., 9.]]),\n",
              " tensor([5., 2., 3., 4., 5., 6., 7., 8., 9.]))"
            ]
          },
          "metadata": {},
          "execution_count": 24
        }
      ]
    },
    {
      "cell_type": "code",
      "source": [
        "#stack tensor on top of the each other\n",
        "\n",
        "x_stacked=torch.stack([x,x,x,x],dim=0) # vstack\n",
        "x_stacked"
      ],
      "metadata": {
        "colab": {
          "base_uri": "https://localhost:8080/"
        },
        "id": "xb919ekDFreu",
        "outputId": "02fa7890-e961-4c3d-d215-08f2a5d9a91c"
      },
      "execution_count": null,
      "outputs": [
        {
          "output_type": "execute_result",
          "data": {
            "text/plain": [
              "tensor([[5., 2., 3., 4., 5., 6., 7., 8., 9.],\n",
              "        [5., 2., 3., 4., 5., 6., 7., 8., 9.],\n",
              "        [5., 2., 3., 4., 5., 6., 7., 8., 9.],\n",
              "        [5., 2., 3., 4., 5., 6., 7., 8., 9.]])"
            ]
          },
          "metadata": {},
          "execution_count": 25
        }
      ]
    },
    {
      "cell_type": "code",
      "source": [
        "x_stacked=torch.stack([x,x,x,x],dim=1)\n",
        "x_stacked #h stack\n"
      ],
      "metadata": {
        "colab": {
          "base_uri": "https://localhost:8080/"
        },
        "id": "xwwbRNcUG-Xw",
        "outputId": "6b8a2d6f-cb9c-4590-9b87-8fe228b7a6db"
      },
      "execution_count": null,
      "outputs": [
        {
          "output_type": "execute_result",
          "data": {
            "text/plain": [
              "tensor([[5., 5., 5., 5.],\n",
              "        [2., 2., 2., 2.],\n",
              "        [3., 3., 3., 3.],\n",
              "        [4., 4., 4., 4.],\n",
              "        [5., 5., 5., 5.],\n",
              "        [6., 6., 6., 6.],\n",
              "        [7., 7., 7., 7.],\n",
              "        [8., 8., 8., 8.],\n",
              "        [9., 9., 9., 9.]])"
            ]
          },
          "metadata": {},
          "execution_count": 26
        }
      ]
    },
    {
      "cell_type": "code",
      "source": [
        "print(f\"previous tensor:{x_reshaped}\")\n",
        "print(f\"previous shape: {x_reshaped.shape}\")\n",
        "\n",
        "# remove extra dimension from the x_reshaped\n",
        "x_squeezed=x_reshaped.squeeze()\n",
        "print(f\" new_tensor:{x_squeezed}\")\n",
        "print(f\"new_shape:{x_squeezed.shape}\")"
      ],
      "metadata": {
        "colab": {
          "base_uri": "https://localhost:8080/"
        },
        "id": "iupa_rz5HNFo",
        "outputId": "4c220e04-5aa5-4ed7-96a7-3214f5e6e264"
      },
      "execution_count": null,
      "outputs": [
        {
          "output_type": "stream",
          "name": "stdout",
          "text": [
            "previous tensor:tensor([[5., 2., 3., 4., 5., 6., 7., 8., 9.]])\n",
            "previous shape: torch.Size([1, 9])\n",
            " new_tensor:tensor([5., 2., 3., 4., 5., 6., 7., 8., 9.])\n",
            "new_shape:torch.Size([9])\n"
          ]
        }
      ]
    },
    {
      "cell_type": "code",
      "source": [
        "print(f\" new_tensor:{x_squeezed}\")\n",
        "print(f\"new_shape:{x_squeezed.shape}\")\n",
        "\n",
        "#add an extra dimension with unsqueeze\n",
        "x_unsqueezed=x_squeezed.unsqueeze(dim=0) # v \n",
        "print(f\" new_tensor:{x_unsqueezed}\")\n",
        "print(f\"new_shape:{x_unsqueezed.shape}\")"
      ],
      "metadata": {
        "colab": {
          "base_uri": "https://localhost:8080/"
        },
        "id": "lkDE1ybCIoeT",
        "outputId": "88644e5d-9973-4e07-fa0f-c682abbfa258"
      },
      "execution_count": null,
      "outputs": [
        {
          "output_type": "stream",
          "name": "stdout",
          "text": [
            " new_tensor:tensor([5., 2., 3., 4., 5., 6., 7., 8., 9.])\n",
            "new_shape:torch.Size([9])\n",
            " new_tensor:tensor([[5., 2., 3., 4., 5., 6., 7., 8., 9.]])\n",
            "new_shape:torch.Size([1, 9])\n"
          ]
        }
      ]
    },
    {
      "cell_type": "code",
      "source": [
        "print(f\" new_tensor:{x_squeezed}\")\n",
        "print(f\"new_shape:{x_squeezed.shape}\")\n",
        "\n",
        "#add an extra dimension with unsqueeze\n",
        "x_unsqueezed=x_squeezed.unsqueeze(dim=1) # h\n",
        "print(f\" new_tensor:{x_unsqueezed}\")\n",
        "print(f\"new_shape:{x_unsqueezed.shape}\")"
      ],
      "metadata": {
        "colab": {
          "base_uri": "https://localhost:8080/"
        },
        "id": "k6aVsccUJ6nx",
        "outputId": "0e1608cb-932b-4d96-cfb3-0985366fe706"
      },
      "execution_count": null,
      "outputs": [
        {
          "output_type": "stream",
          "name": "stdout",
          "text": [
            " new_tensor:tensor([5., 2., 3., 4., 5., 6., 7., 8., 9.])\n",
            "new_shape:torch.Size([9])\n",
            " new_tensor:tensor([[5.],\n",
            "        [2.],\n",
            "        [3.],\n",
            "        [4.],\n",
            "        [5.],\n",
            "        [6.],\n",
            "        [7.],\n",
            "        [8.],\n",
            "        [9.]])\n",
            "new_shape:torch.Size([9, 1])\n"
          ]
        }
      ]
    },
    {
      "cell_type": "code",
      "source": [
        "#permute:- rearrange the order of the axes value with torch.permute\n",
        "\n",
        "x_original=torch.rand(size=(224,224,3))\n",
        "\n",
        "#rearrange the axis order\n",
        "x_permuted=x_original.permute(2,0,1) #shift axis 0->1,1->2,2->0\n",
        "\n",
        "print(f\"previous shape:{x_original.shape}\")\n",
        "print(f\"new shape:{x_permuted.shape}\")"
      ],
      "metadata": {
        "id": "de1qt1RXKBVb",
        "colab": {
          "base_uri": "https://localhost:8080/"
        },
        "outputId": "9d3a9bee-360a-4a8e-c29e-6c41dc8332b3"
      },
      "execution_count": null,
      "outputs": [
        {
          "output_type": "stream",
          "name": "stdout",
          "text": [
            "previous shape:torch.Size([224, 224, 3])\n",
            "new shape:torch.Size([3, 224, 224])\n"
          ]
        }
      ]
    },
    {
      "cell_type": "markdown",
      "source": [
        "Indexing(selecting data from tensor)\n",
        "\n"
      ],
      "metadata": {
        "id": "XQFeKrxuxSQL"
      }
    },
    {
      "cell_type": "code",
      "source": [
        "#cerate a tensor \n",
        "import torch\n",
        "x=torch.arange(1,10).reshape(1,3,3)\n",
        "x,x.shape"
      ],
      "metadata": {
        "colab": {
          "base_uri": "https://localhost:8080/"
        },
        "id": "8teJM-Ojxbja",
        "outputId": "50a2226d-60a1-4746-e1f0-bd19888cdba1"
      },
      "execution_count": null,
      "outputs": [
        {
          "output_type": "execute_result",
          "data": {
            "text/plain": [
              "(tensor([[[1, 2, 3],\n",
              "          [4, 5, 6],\n",
              "          [7, 8, 9]]]), torch.Size([1, 3, 3]))"
            ]
          },
          "metadata": {},
          "execution_count": 4
        }
      ]
    },
    {
      "cell_type": "code",
      "source": [
        "#let's inddex bracket by bracket \n",
        "print(f\"first sqaure bracket :{x[0]}\")\n",
        "print(f\"second sqaure braket : {x[0][0]}\")\n",
        "print(f\"third sqaure bracket :{x[0][0][0]}\")"
      ],
      "metadata": {
        "colab": {
          "base_uri": "https://localhost:8080/"
        },
        "id": "cftrdBq90l71",
        "outputId": "66cfbf96-d956-4483-f0b3-e1a94bfbc447"
      },
      "execution_count": null,
      "outputs": [
        {
          "output_type": "stream",
          "name": "stdout",
          "text": [
            "first sqaure bracket :tensor([[1, 2, 3],\n",
            "        [4, 5, 6],\n",
            "        [7, 8, 9]])\n",
            "second sqaure braket : tensor([1, 2, 3])\n",
            "third sqaure bracket :1\n"
          ]
        }
      ]
    },
    {
      "cell_type": "code",
      "source": [
        "#get all the value of 0th dimension and the 0 index of 1st dimension\n",
        "\n",
        "x[:,0]"
      ],
      "metadata": {
        "colab": {
          "base_uri": "https://localhost:8080/"
        },
        "id": "7m6QuMWZ1Ko7",
        "outputId": "904b60a5-9a6b-4f0e-fd3d-d4abc8c98af2"
      },
      "execution_count": null,
      "outputs": [
        {
          "output_type": "execute_result",
          "data": {
            "text/plain": [
              "tensor([[1, 2, 3]])"
            ]
          },
          "metadata": {},
          "execution_count": 6
        }
      ]
    },
    {
      "cell_type": "code",
      "source": [
        "#get all the value of the 0th and 1st dim but only index 1 of 2nd dim\n",
        "\n",
        "x[:,:,1]"
      ],
      "metadata": {
        "colab": {
          "base_uri": "https://localhost:8080/"
        },
        "id": "M8M_WFEN1o45",
        "outputId": "2b9da685-005e-4b6d-910f-281205baa8f0"
      },
      "execution_count": null,
      "outputs": [
        {
          "output_type": "execute_result",
          "data": {
            "text/plain": [
              "tensor([[2, 5, 8]])"
            ]
          },
          "metadata": {},
          "execution_count": 7
        }
      ]
    },
    {
      "cell_type": "code",
      "source": [
        "#get all the value of the 0th  dim but only index 1 of 2nd dim and 1st dim\n",
        "\n",
        "x[:,1,1]"
      ],
      "metadata": {
        "colab": {
          "base_uri": "https://localhost:8080/"
        },
        "id": "t6g0OANR15xK",
        "outputId": "8a54f2e1-1716-4b1a-9047-12444122d828"
      },
      "execution_count": null,
      "outputs": [
        {
          "output_type": "execute_result",
          "data": {
            "text/plain": [
              "tensor([5])"
            ]
          },
          "metadata": {},
          "execution_count": 8
        }
      ]
    },
    {
      "cell_type": "code",
      "source": [
        "#get all the value of the 2 dim but only index 0 of 0th and 1 st dim\n",
        "\n",
        "x[0,0,:]"
      ],
      "metadata": {
        "colab": {
          "base_uri": "https://localhost:8080/"
        },
        "id": "jXxsF5C62Ird",
        "outputId": "3a481558-def7-4f66-eed5-612bcb5e3e37"
      },
      "execution_count": null,
      "outputs": [
        {
          "output_type": "execute_result",
          "data": {
            "text/plain": [
              "tensor([1, 2, 3])"
            ]
          },
          "metadata": {},
          "execution_count": 9
        }
      ]
    },
    {
      "cell_type": "code",
      "source": [
        "#get 9\n",
        "\n",
        "x[0,2,2]  "
      ],
      "metadata": {
        "colab": {
          "base_uri": "https://localhost:8080/"
        },
        "id": "xVciiI_I2gMA",
        "outputId": "9059f538-9e9d-4898-dd2a-b6b6dd5f11d7"
      },
      "execution_count": null,
      "outputs": [
        {
          "output_type": "execute_result",
          "data": {
            "text/plain": [
              "tensor(9)"
            ]
          },
          "metadata": {},
          "execution_count": 14
        }
      ]
    },
    {
      "cell_type": "code",
      "source": [
        "x[0,:,1]  #x[bracket,row,col]"
      ],
      "metadata": {
        "id": "Q5me5Y5Q2zSB",
        "colab": {
          "base_uri": "https://localhost:8080/"
        },
        "outputId": "b6a56efa-cc86-4979-8c71-ddc137dd325a"
      },
      "execution_count": null,
      "outputs": [
        {
          "output_type": "execute_result",
          "data": {
            "text/plain": [
              "tensor([2, 5, 8])"
            ]
          },
          "metadata": {},
          "execution_count": 6
        }
      ]
    },
    {
      "cell_type": "code",
      "source": [],
      "metadata": {
        "id": "RC4-lxs8sj83"
      },
      "execution_count": null,
      "outputs": []
    },
    {
      "cell_type": "markdown",
      "source": [
        "**Pytorch tensor and numpy** \n",
        "\n",
        "\n",
        "1.NumPyarray  to pytorch tensor\n",
        "\n",
        "-torch.from_numpy(ndarray)\n",
        "\n",
        "2.Pytroch tensor ->numpy array\n",
        "\n",
        "-torch.tensor.numpy()\n",
        "\n",
        "\n",
        "\n",
        "\n",
        "\n"
      ],
      "metadata": {
        "id": "ULVhhqyeuUQO"
      }
    },
    {
      "cell_type": "code",
      "source": [
        "#Numpy array to tensor \n",
        "\n",
        "import torch \n",
        "import numpy as np\n",
        "array=np.arange(1.0,8.0)\n",
        "tensor=torch.from_numpy(array)\n",
        "array,tensor\n",
        "\n",
        "\n",
        "\n"
      ],
      "metadata": {
        "colab": {
          "base_uri": "https://localhost:8080/"
        },
        "id": "dAM685neu7SF",
        "outputId": "99a23d60-ceae-4f7d-e845-83b8194dbef1"
      },
      "execution_count": null,
      "outputs": [
        {
          "output_type": "execute_result",
          "data": {
            "text/plain": [
              "(array([1., 2., 3., 4., 5., 6., 7.]),\n",
              " tensor([1., 2., 3., 4., 5., 6., 7.], dtype=torch.float64))"
            ]
          },
          "metadata": {},
          "execution_count": 11
        }
      ]
    },
    {
      "cell_type": "code",
      "source": [
        "# numpy created wiyh the array with datatype of float64 and if u convert it pytorch tensor\n",
        "# it keep the same datatype \n",
        "\n",
        "#many pytorch calculation default to using float32\n",
        "\n",
        "# if u want to convert ur float64 to float 32\n",
        "\n",
        "tensor=torch.from_numpy(array).type(torch.float32)\n",
        "tensor"
      ],
      "metadata": {
        "colab": {
          "base_uri": "https://localhost:8080/"
        },
        "id": "5yzaiYTKvqZh",
        "outputId": "2e41d0b9-d4ed-4d76-ce5e-6ec651e27674"
      },
      "execution_count": null,
      "outputs": [
        {
          "output_type": "execute_result",
          "data": {
            "text/plain": [
              "tensor([1., 2., 3., 4., 5., 6., 7.])"
            ]
          },
          "metadata": {},
          "execution_count": 12
        }
      ]
    },
    {
      "cell_type": "code",
      "source": [
        "tensor.dtype"
      ],
      "metadata": {
        "colab": {
          "base_uri": "https://localhost:8080/"
        },
        "id": "KSk0jrmkwpCz",
        "outputId": "6618ab53-494f-4639-d9a1-c4d087af9a76"
      },
      "execution_count": null,
      "outputs": [
        {
          "output_type": "execute_result",
          "data": {
            "text/plain": [
              "torch.float32"
            ]
          },
          "metadata": {},
          "execution_count": 17
        }
      ]
    },
    {
      "cell_type": "markdown",
      "source": [
        "NumPy array default datatype is float32\n",
        "tensor default datatype is float64\n",
        "\n"
      ],
      "metadata": {
        "id": "GAQMg3XVyEyy"
      }
    },
    {
      "cell_type": "code",
      "source": [
        "# change the array ,keep the s=tensor same\n",
        "array=array+1\n",
        "array,tensor"
      ],
      "metadata": {
        "colab": {
          "base_uri": "https://localhost:8080/"
        },
        "id": "ph3eaHsDyQT1",
        "outputId": "b9f188e5-bbc0-463e-9ffd-8ab5024ccbe9"
      },
      "execution_count": null,
      "outputs": [
        {
          "output_type": "execute_result",
          "data": {
            "text/plain": [
              "(array([2., 3., 4., 5., 6., 7., 8.]), tensor([1., 2., 3., 4., 5., 6., 7.]))"
            ]
          },
          "metadata": {},
          "execution_count": 18
        }
      ]
    },
    {
      "cell_type": "markdown",
      "source": [
        "pytorch tensor to numpy"
      ],
      "metadata": {
        "id": "ilnpgkPGyls1"
      }
    },
    {
      "cell_type": "code",
      "source": [
        "tensor=torch.ones(7) # create the tensor of ones with dtpe=float32\n",
        "numpy_tensor=tensor.numpy()\n",
        "tensor,numpy_tensor"
      ],
      "metadata": {
        "colab": {
          "base_uri": "https://localhost:8080/"
        },
        "id": "MSNmzEd_yqEi",
        "outputId": "7ed856e3-caab-4ea6-e81e-fe4dcbba5bea"
      },
      "execution_count": null,
      "outputs": [
        {
          "output_type": "execute_result",
          "data": {
            "text/plain": [
              "(tensor([1., 1., 1., 1., 1., 1., 1.]),\n",
              " array([1., 1., 1., 1., 1., 1., 1.], dtype=float32))"
            ]
          },
          "metadata": {},
          "execution_count": 20
        }
      ]
    },
    {
      "cell_type": "code",
      "source": [
        "# change the tensor ,keep the array the same\n",
        "\n",
        "tensor=tensor+1\n",
        "tensor,numpy_tensor"
      ],
      "metadata": {
        "colab": {
          "base_uri": "https://localhost:8080/"
        },
        "id": "henzVMA5yuPv",
        "outputId": "dce6db02-798b-452b-907a-3249ae4a118c"
      },
      "execution_count": null,
      "outputs": [
        {
          "output_type": "execute_result",
          "data": {
            "text/plain": [
              "(tensor([2., 2., 2., 2., 2., 2., 2.]),\n",
              " array([1., 1., 1., 1., 1., 1., 1.], dtype=float32))"
            ]
          },
          "metadata": {},
          "execution_count": 21
        }
      ]
    },
    {
      "cell_type": "markdown",
      "source": [
        "**Reproducibility**(take out the random out of random)\n",
        "\n",
        "randomness is nice and powerful,sometime you'd like there to be little less randomness\n",
        "\n",
        "so u can peform repeaable expeeriment\n",
        "\n"
      ],
      "metadata": {
        "id": "fx18jmRCvzQ4"
      }
    },
    {
      "cell_type": "code",
      "source": [
        "import torch\n",
        "\n",
        "random_tensor_A=torch.rand(3,4)\n",
        "random_tensor_B=torch.rand(3,4)\n",
        "\n",
        "print(f\"tensor A:\\n{random_tensor_A}\\n\")\n",
        "print(f\"tensor_B:\\n{random_tensor_B}\\n\")\n",
        "print(\"does tensor A equal tensor B?(anywhere)\")\n",
        "random_tensor_A==random_tensor_B\n"
      ],
      "metadata": {
        "colab": {
          "base_uri": "https://localhost:8080/"
        },
        "id": "WIshzZMo1zq8",
        "outputId": "c19dcac0-b927-427b-df90-c0b4ae8d800b"
      },
      "execution_count": 2,
      "outputs": [
        {
          "output_type": "stream",
          "name": "stdout",
          "text": [
            "tensor A:\n",
            "tensor([[0.9724, 0.1989, 0.1894, 0.4666],\n",
            "        [0.1433, 0.8272, 0.9675, 0.4505],\n",
            "        [0.0801, 0.5101, 0.3120, 0.2011]])\n",
            "\n",
            "tensor_B:\n",
            "tensor([[0.4332, 0.5003, 0.5179, 0.3655],\n",
            "        [0.6646, 0.9492, 0.4871, 0.1064],\n",
            "        [0.0233, 0.7743, 0.8275, 0.9640]])\n",
            "\n",
            "does tensor A equal tensor B?(anywhere)\n"
          ]
        },
        {
          "output_type": "execute_result",
          "data": {
            "text/plain": [
              "tensor([[False, False, False, False],\n",
              "        [False, False, False, False],\n",
              "        [False, False, False, False]])"
            ]
          },
          "metadata": {},
          "execution_count": 2
        }
      ]
    },
    {
      "cell_type": "markdown",
      "source": [
        "tensor would still contain random value but they would be of the same value"
      ],
      "metadata": {
        "id": "a4dDCdHHmePv"
      }
    },
    {
      "cell_type": "code",
      "source": [
        "import torch\n",
        "import random\n",
        "\n",
        "#set the random seed \n",
        "RANDOM_SEED=42#try change this to different value and see what happens to the number happens\n",
        "torch.manual_seed(seed=RANDOM_SEED)\n",
        "random_tensor_C=torch.rand(3,4)\n",
        "\n",
        "#have reset the seed every time a new rand() is calling\n",
        "#without this  ,tensor_d  would be different to tensor_c\n",
        "\n",
        "torch.random.manual_seed(seed=RANDOM_SEED)\n",
        "random_tensor_D=torch.rand(3,4)\n",
        "\n",
        "print(f\"tensor_c:\\n{random_tensor_C}\\n\")\n",
        "print(f\"tensor_D:\\n{random_tensor_D}\\n\")\n",
        "\n",
        "random_tensor_C==random_tensor_D\n",
        "\n"
      ],
      "metadata": {
        "colab": {
          "base_uri": "https://localhost:8080/"
        },
        "id": "gJfaC389mzRR",
        "outputId": "7ea708a3-b86e-4ae6-81ee-372378b1b0ee"
      },
      "execution_count": 4,
      "outputs": [
        {
          "output_type": "stream",
          "name": "stdout",
          "text": [
            "tensor_c:\n",
            "tensor([[0.8823, 0.9150, 0.3829, 0.9593],\n",
            "        [0.3904, 0.6009, 0.2566, 0.7936],\n",
            "        [0.9408, 0.1332, 0.9346, 0.5936]])\n",
            "\n",
            "tensor_D:\n",
            "tensor([[0.8823, 0.9150, 0.3829, 0.9593],\n",
            "        [0.3904, 0.6009, 0.2566, 0.7936],\n",
            "        [0.9408, 0.1332, 0.9346, 0.5936]])\n",
            "\n"
          ]
        },
        {
          "output_type": "execute_result",
          "data": {
            "text/plain": [
              "tensor([[True, True, True, True],\n",
              "        [True, True, True, True],\n",
              "        [True, True, True, True]])"
            ]
          },
          "metadata": {},
          "execution_count": 4
        }
      ]
    },
    {
      "cell_type": "markdown",
      "source": [
        "**Running the tenosr on gpu**\n",
        "\n",
        "1.use google colab gpu\n",
        "\n",
        "2.ur own gpu\n",
        "\n",
        "3.cloud computuing\n",
        "\n",
        "\n",
        "\n"
      ],
      "metadata": {
        "id": "1ByfG7lJsueX"
      }
    },
    {
      "cell_type": "code",
      "source": [
        "!nvidia-smi"
      ],
      "metadata": {
        "colab": {
          "base_uri": "https://localhost:8080/"
        },
        "id": "6n0vfIPFta0G",
        "outputId": "78d1cbd6-6fd3-4f82-8c38-6da97974ac81"
      },
      "execution_count": 1,
      "outputs": [
        {
          "output_type": "stream",
          "name": "stdout",
          "text": [
            "Tue Oct  4 06:37:16 2022       \n",
            "+-----------------------------------------------------------------------------+\n",
            "| NVIDIA-SMI 460.32.03    Driver Version: 460.32.03    CUDA Version: 11.2     |\n",
            "|-------------------------------+----------------------+----------------------+\n",
            "| GPU  Name        Persistence-M| Bus-Id        Disp.A | Volatile Uncorr. ECC |\n",
            "| Fan  Temp  Perf  Pwr:Usage/Cap|         Memory-Usage | GPU-Util  Compute M. |\n",
            "|                               |                      |               MIG M. |\n",
            "|===============================+======================+======================|\n",
            "|   0  Tesla T4            Off  | 00000000:00:04.0 Off |                    0 |\n",
            "| N/A   67C    P8    11W /  70W |      0MiB / 15109MiB |      0%      Default |\n",
            "|                               |                      |                  N/A |\n",
            "+-------------------------------+----------------------+----------------------+\n",
            "                                                                               \n",
            "+-----------------------------------------------------------------------------+\n",
            "| Processes:                                                                  |\n",
            "|  GPU   GI   CI        PID   Type   Process name                  GPU Memory |\n",
            "|        ID   ID                                                   Usage      |\n",
            "|=============================================================================|\n",
            "|  No running processes found                                                 |\n",
            "+-----------------------------------------------------------------------------+\n"
          ]
        }
      ]
    },
    {
      "cell_type": "markdown",
      "source": [
        "if u have gpu accessiable above is somthing as output"
      ],
      "metadata": {
        "id": "yx0l-7glt_EL"
      }
    },
    {
      "cell_type": "markdown",
      "source": [
        "**2.  Getting the pytorch to run on GPU**"
      ],
      "metadata": {
        "id": "aGhIQpHguLZ3"
      }
    },
    {
      "cell_type": "code",
      "source": [
        "#check for the gpu\n",
        "\n",
        "import torch\n",
        "torch.cuda.is_available()\n"
      ],
      "metadata": {
        "colab": {
          "base_uri": "https://localhost:8080/"
        },
        "id": "IKaM2LwRuUuN",
        "outputId": "46c7ea90-a29d-41e5-e1e2-b4cdf587246e"
      },
      "execution_count": 2,
      "outputs": [
        {
          "output_type": "execute_result",
          "data": {
            "text/plain": [
              "True"
            ]
          },
          "metadata": {},
          "execution_count": 2
        }
      ]
    },
    {
      "cell_type": "code",
      "source": [
        "#set device type \n",
        "\n",
        "device=\"cuda\" if torch.cuda.is_available() else \"cpu\"\n",
        "device"
      ],
      "metadata": {
        "colab": {
          "base_uri": "https://localhost:8080/",
          "height": 36
        },
        "id": "DLKSPqMpufGp",
        "outputId": "2b6e92f4-9724-4821-ceb3-03d363c4a6f1"
      },
      "execution_count": 3,
      "outputs": [
        {
          "output_type": "execute_result",
          "data": {
            "text/plain": [
              "'cuda'"
            ],
            "application/vnd.google.colaboratory.intrinsic+json": {
              "type": "string"
            }
          },
          "metadata": {},
          "execution_count": 3
        }
      ]
    },
    {
      "cell_type": "markdown",
      "source": [
        "it is th best practice  to write device agnostic code this means code that run  on cpu(always availabe) or gpu(is available)"
      ],
      "metadata": {
        "id": "LQT2f90kwtHf"
      }
    },
    {
      "cell_type": "code",
      "source": [
        "# Count number of devices\n",
        "\n",
        "torch.cuda.device_count()\n"
      ],
      "metadata": {
        "colab": {
          "base_uri": "https://localhost:8080/"
        },
        "id": "tgsgza3MxOwK",
        "outputId": "e43abb5a-70a4-4e43-c242-5d23166d47bd"
      },
      "execution_count": 4,
      "outputs": [
        {
          "output_type": "execute_result",
          "data": {
            "text/plain": [
              "1"
            ]
          },
          "metadata": {},
          "execution_count": 4
        }
      ]
    },
    {
      "cell_type": "markdown",
      "source": [
        "**putting tensor (and model) on GPU**\n"
      ],
      "metadata": {
        "id": "fd2kVSRkxlJb"
      }
    },
    {
      "cell_type": "code",
      "source": [
        " #create tensor (default on cpu)\n",
        "\n",
        "tensor = torch.tensor([1,2,3])\n",
        "print(tensor,tensor.device)\n",
        "\n",
        " # tensor not on gpu\n",
        "\n",
        "print(tensor,tensor.device)\n",
        "\n",
        " # move tensor to gpu(if available)\n",
        "\n",
        "tensor_on_gpu =tensor.to(device)\n",
        "\n",
        "tensor_on_gpu\n"
      ],
      "metadata": {
        "colab": {
          "base_uri": "https://localhost:8080/"
        },
        "id": "0ZkLCT-bxueC",
        "outputId": "77caba79-d3c1-43c5-8221-937ed9425d35"
      },
      "execution_count": 9,
      "outputs": [
        {
          "output_type": "stream",
          "name": "stdout",
          "text": [
            "tensor([1, 2, 3]) cpu\n",
            "tensor([1, 2, 3]) cpu\n"
          ]
        },
        {
          "output_type": "execute_result",
          "data": {
            "text/plain": [
              "tensor([1, 2, 3], device='cuda:0')"
            ]
          },
          "metadata": {},
          "execution_count": 9
        }
      ]
    },
    {
      "cell_type": "markdown",
      "source": [
        "device='cuda:0' this means its stored on the 0th gpu availabe  respectively up to'cuda:n'"
      ],
      "metadata": {
        "id": "QFXnPvr6yvWY"
      }
    },
    {
      "cell_type": "markdown",
      "source": [
        "** Moving the tensor back to the cpu **"
      ],
      "metadata": {
        "id": "RzZd3u-ozVZz"
      }
    },
    {
      "cell_type": "code",
      "source": [
        "# if tensor is on GPU ,cant transfrom it to numpy(this will error)\n",
        "\n",
        "#tensor_on_gpu.numpy()\n",
        "\n",
        "\n"
      ],
      "metadata": {
        "id": "hpp4TOkbzd32"
      },
      "execution_count": 11,
      "outputs": []
    },
    {
      "cell_type": "code",
      "source": [
        "#instead ,copy the tensor back to cpu\n",
        "\n",
        "tensor_back_on_cpu=tensor_on_gpu.cpu().numpy()\n",
        "tensor_back_on_cpu"
      ],
      "metadata": {
        "colab": {
          "base_uri": "https://localhost:8080/"
        },
        "id": "eMfvOAtyz7TM",
        "outputId": "fc24e9c4-3985-41e4-c3c8-3a6aaca44ff8"
      },
      "execution_count": 14,
      "outputs": [
        {
          "output_type": "execute_result",
          "data": {
            "text/plain": [
              "array([1, 2, 3])"
            ]
          },
          "metadata": {},
          "execution_count": 14
        }
      ]
    },
    {
      "cell_type": "code",
      "source": [
        "# above return a copy of the gpu tensor in cpu memory so the original tensor is still on gpu\n"
      ],
      "metadata": {
        "id": "Pi7SR-_P0iPa"
      },
      "execution_count": 15,
      "outputs": []
    },
    {
      "cell_type": "code",
      "source": [
        "tensor_on_gpu"
      ],
      "metadata": {
        "colab": {
          "base_uri": "https://localhost:8080/"
        },
        "id": "a7B5axjg084M",
        "outputId": "423a4508-70c9-4fab-874d-972461c5006b"
      },
      "execution_count": 16,
      "outputs": [
        {
          "output_type": "execute_result",
          "data": {
            "text/plain": [
              "tensor([1, 2, 3], device='cuda:0')"
            ]
          },
          "metadata": {},
          "execution_count": 16
        }
      ]
    },
    {
      "cell_type": "code",
      "source": [],
      "metadata": {
        "id": "k5GqObJu1B-8"
      },
      "execution_count": null,
      "outputs": []
    }
  ]
}